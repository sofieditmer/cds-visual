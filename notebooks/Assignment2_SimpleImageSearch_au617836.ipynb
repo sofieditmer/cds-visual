{
 "cells": [
  {
   "cell_type": "markdown",
   "metadata": {},
   "source": [
    "## Creating a Simple Image Search Script\n",
    "\n",
    "Download the Oxford-17 flowers image data set, available at this link:\n",
    "\n",
    "https://www.robots.ox.ac.uk/~vgg/data/flowers/17/\n",
    "\n",
    "Choose one image in your data that you want to be the 'target image'. Write a Python script or Notebook which does the following:\n",
    "\n",
    "1. Use the cv2.compareHist() function to compare the 3D color histogram for your target image to each of the other images in the corpus one-by-one.\n",
    "2. In particular, use chi-square distance method, like we used in class. Round this number to 2 decimal places.\n",
    "3. Save the results from this comparison as a single .csv file, showing the distance between your target image and each of the other images. The .csv file should show the filename for every image in your data except the target and the distance metric between that image and your target. Call your columns: filename, distance.\n",
    "\n",
    "\n",
    "__General instructions__\n",
    "\n",
    "For this exercise, you can upload either a standalone script OR a Jupyter Notebook\n",
    "Save your script as image_search.py OR image_search.ipynb\n",
    "If you have external dependencies, you must include a requirements.txt\n",
    "You can either upload the script here or push to GitHub and include a link - or both!\n",
    "Your code should be clearly documented in a way that allows others to easily follow along.\n",
    "Similarly, remember to use descriptive variable names! A name like hist is more readable than h.\n",
    "The filenames of the saved images should clearly relate to the original image\n",
    "\n",
    "\n",
    "__Purpose__\n",
    "\n",
    "This assignment is designed to test that you have a understanding of:\n",
    "\n",
    "1. how to make extract features from images based on colour space;\n",
    "2. how to compare images for similarity based on their colour histogram;\n",
    "3. how to combine these skills to create an image 'search engine'"
   ]
  },
  {
   "cell_type": "markdown",
   "metadata": {},
   "source": [
    "__Load Libraries__"
   ]
  },
  {
   "cell_type": "code",
   "execution_count": 9,
   "metadata": {},
   "outputs": [],
   "source": [
    "import os\n",
    "import sys\n",
    "sys.path.append(os.path.join(\"..\"))\n",
    "import cv2\n",
    "import numpy as np\n",
    "import matplotlib.pyplot as plt\n",
    "from pathlib import Path\n",
    "import pandas as pd\n",
    "import argparse"
   ]
  },
  {
   "cell_type": "markdown",
   "metadata": {},
   "source": [
    "__Define function__"
   ]
  },
  {
   "cell_type": "code",
   "execution_count": 23,
   "metadata": {},
   "outputs": [],
   "source": [
    "def main():\n",
    "    \n",
    "    # argparse \n",
    "    ap = argparse.ArgumentParser()\n",
    "    # parameters\n",
    "    ap.add_argument(\"-p\", \"--path\", required = True, help= \"Path to directory of images\")\n",
    "    ap.add_argument(\"-t\", \"--target_image\", required = True, help= \"Filename of the target image\")\n",
    "    # parse arguments\n",
    "    args = vars(ap.parse_args())\n",
    "    \n",
    "    # get path to image directory\n",
    "    image_directory = args[\"path\"]\n",
    "    # get name of the target image\n",
    "    target_name = args[\"target\"]\n",
    "    \n",
    "    # empty dataframe to save data\n",
    "    data = pd.DataFrame(columns=[\"filename\", \"distance\"])\n",
    "    \n",
    "    # read target image\n",
    "    target_image = cv2.imread(os.path.join(image_directory, target_name))\n",
    "    # create histogram for all 3 color channels\n",
    "    target_hist = cv2.calcHist([target_image], [0,1,2], None, [8,8,8], [0,256, 0,256, 0,256])\n",
    "    # normalise the histogram\n",
    "    target_hist_norm = cv2.normalize(target_hist, target_hist, 0,255, cv2.NORM_MINMAX)\n",
    "    \n",
    "    # for each image (ending with .jpg) in the directory\n",
    "    for image_path in Path(image_directory).glob(\"*.jpg\"):\n",
    "        # only get the image name\n",
    "        _, image = os.path.split(image_path)\n",
    "        # if not the target image\n",
    "        if image != target_name:\n",
    "            # read the image and save as comparison image\n",
    "            comparison_image = cv2.imread(os.path.join(image_directory, image))\n",
    "            # create histogram for comparison iamge\n",
    "            comparison_hist = cv2.calcHist([comparison_image], [0,1,2], None, [8,8,8], [0,256, 0,256, 0,256])\n",
    "            # normalising the comparison image histogram\n",
    "            comparison_hist_norm = cv2.normalize(comparison_hist, comparison_hist, 0,255, cv2.NORM_MINMAX)    \n",
    "            # calculate the chisquare distance\n",
    "            distance = round(cv2.compareHist(target_hist_norm, comparison_hist_norm, cv2.HISTCMP_CHISQR), 2)\n",
    "            # append info to dataframe\n",
    "            data = data.append({\"filename\": image, \n",
    "                                \"distance\": distance}, ignore_index = True)\n",
    "    \n",
    "    # save as csv in current directory\n",
    "    data.to_csv(f\"{target_name}_comparison.csv\")\n",
    "    # print that file has been saved\n",
    "    print(f\"output file is saved in current directory as {target_name}_comparison.csv\")"
   ]
  }
 ],
 "metadata": {
  "kernelspec": {
   "display_name": "cv101",
   "language": "python",
   "name": "cv101"
  },
  "language_info": {
   "codemirror_mode": {
    "name": "ipython",
    "version": 3
   },
   "file_extension": ".py",
   "mimetype": "text/x-python",
   "name": "python",
   "nbconvert_exporter": "python",
   "pygments_lexer": "ipython3",
   "version": "3.6.9"
  }
 },
 "nbformat": 4,
 "nbformat_minor": 4
}
