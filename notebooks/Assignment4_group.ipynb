{
 "cells": [
  {
   "cell_type": "markdown",
   "metadata": {},
   "source": [
    "__Libraries__"
   ]
  },
  {
   "cell_type": "code",
   "execution_count": 1,
   "metadata": {},
   "outputs": [],
   "source": [
    "# Path tools\n",
    "import sys,os\n",
    "sys.path.append(os.path.join(\"..\")) # adding home directory to sys path so we can import the utility function\n",
    "\n",
    "# Neural networks with numpy\n",
    "from utils.neuralnetwork import NeuralNetwork \n",
    "\n",
    "# Sklearn - machine learning tools\n",
    "from sklearn.preprocessing import LabelBinarizer\n",
    "from sklearn.model_selection import train_test_split\n",
    "from sklearn.metrics import classification_report\n",
    "from sklearn import datasets\n",
    "from sklearn import metrics\n",
    "from sklearn.datasets import fetch_openml\n",
    "from sklearn.linear_model import LogisticRegression\n",
    "from sklearn.metrics import accuracy_score\n",
    "\n",
    "# Import teaching utils\n",
    "import numpy as np\n",
    "import utils.classifier_utils as clf_util\n",
    "\n",
    "import pandas as pd\n",
    "import matplotlib.pyplot as plt"
   ]
  },
  {
   "cell_type": "markdown",
   "metadata": {},
   "source": [
    "__Building Logistic Regression Classifier__"
   ]
  },
  {
   "cell_type": "code",
   "execution_count": 2,
   "metadata": {},
   "outputs": [],
   "source": [
    "X, y = fetch_openml('mnist_784', version=1, return_X_y=True)"
   ]
  },
  {
   "cell_type": "code",
   "execution_count": 3,
   "metadata": {},
   "outputs": [],
   "source": [
    "# Create a subset\n",
    "subset_X = X[:1000]\n",
    "subset_y = y[:1000]"
   ]
  },
  {
   "cell_type": "code",
   "execution_count": 4,
   "metadata": {},
   "outputs": [],
   "source": [
    "subset_X = np.array(subset_X)\n",
    "subset_y = np.array(subset_y)"
   ]
  },
  {
   "cell_type": "markdown",
   "metadata": {},
   "source": [
    "__Create training and test data__"
   ]
  },
  {
   "cell_type": "code",
   "execution_count": 5,
   "metadata": {},
   "outputs": [],
   "source": [
    "X_train, X_test, y_train, y_test = train_test_split(subset_X, \n",
    "                                                    subset_y,\n",
    "                                                    random_state=9,\n",
    "                                                    train_size=0.8, # argparse - make this the default\n",
    "                                                    test_size=0.2) # argparse - make this the default"
   ]
  },
  {
   "cell_type": "markdown",
   "metadata": {},
   "source": [
    "__Min-max regularization__"
   ]
  },
  {
   "cell_type": "code",
   "execution_count": 6,
   "metadata": {},
   "outputs": [],
   "source": [
    "X_train_scaled = (X_train - X_train.min())/(X_train.max() - X_train.min())\n",
    "X_test_scaled = (X_test - X_test.min())/(X_test.max() - X_test.min())"
   ]
  },
  {
   "cell_type": "markdown",
   "metadata": {},
   "source": [
    "__Train Logistic Regression Classifier__"
   ]
  },
  {
   "cell_type": "code",
   "execution_count": 7,
   "metadata": {},
   "outputs": [],
   "source": [
    "clf = LogisticRegression(penalty='none', \n",
    "                         tol=0.1,\n",
    "                         solver='saga',\n",
    "                         multi_class='multinomial').fit(X_train_scaled, y_train)"
   ]
  },
  {
   "cell_type": "markdown",
   "metadata": {},
   "source": [
    "__Evaluate__"
   ]
  },
  {
   "cell_type": "code",
   "execution_count": 8,
   "metadata": {},
   "outputs": [],
   "source": [
    "# Predictions for scaled dat\n",
    "y_pred = clf.predict(X_test_scaled)"
   ]
  },
  {
   "cell_type": "code",
   "execution_count": 9,
   "metadata": {
    "scrolled": true
   },
   "outputs": [
    {
     "name": "stdout",
     "output_type": "stream",
     "text": [
      "              precision    recall  f1-score   support\n",
      "\n",
      "           0       1.00      0.95      0.97        19\n",
      "           1       0.72      0.90      0.80        20\n",
      "           2       0.84      0.84      0.84        25\n",
      "           3       0.71      0.89      0.79        19\n",
      "           4       1.00      0.87      0.93        23\n",
      "           5       0.88      0.65      0.75        23\n",
      "           6       0.84      1.00      0.91        16\n",
      "           7       0.78      0.74      0.76        19\n",
      "           8       0.75      0.80      0.77        15\n",
      "           9       0.89      0.76      0.82        21\n",
      "\n",
      "    accuracy                           0.83       200\n",
      "   macro avg       0.84      0.84      0.83       200\n",
      "weighted avg       0.85      0.83      0.84       200\n",
      "\n"
     ]
    }
   ],
   "source": [
    "# Classification metrics\n",
    "classification_metrics = metrics.classification_report(y_test, y_pred)\n",
    "print(classification_metrics) # Print in terminal"
   ]
  },
  {
   "cell_type": "code",
   "execution_count": 10,
   "metadata": {},
   "outputs": [],
   "source": [
    "classification_metrics_df = pd.DataFrame(metrics.classification_report(y_test, y_pred, output_dict = True)).transpose()"
   ]
  },
  {
   "cell_type": "code",
   "execution_count": 11,
   "metadata": {},
   "outputs": [],
   "source": [
    "#path = os.path.join(\"..\", \"out\", \"lr_classification_metrics.csv\")\n",
    "classification_metrics_df.to_csv(\"lr_classification_metrics.csv\")"
   ]
  },
  {
   "cell_type": "code",
   "execution_count": 12,
   "metadata": {},
   "outputs": [
    {
     "data": {
      "image/png": "[encoded data removed]",
      "text/plain": [
       "<Figure size 720x720 with 1 Axes>"
      ]
     },
     "metadata": {
      "needs_background": "light"
     },
     "output_type": "display_data"
    }
   ],
   "source": [
    "# Create confusion matrix and save in output folder\n",
    "confusion_matrix = clf_util.plot_cm(y_test, y_pred, normalized=True)\n",
    "#plt.savefig(\"confusion_matrix.png\", dpi = 300, bbox_inches = \"tight\")"
   ]
  },
  {
   "cell_type": "markdown",
   "metadata": {},
   "source": [
    "Add \"Test on new data\" here"
   ]
  },
  {
   "cell_type": "markdown",
   "metadata": {},
   "source": [
    "## Neural Network"
   ]
  },
  {
   "cell_type": "code",
   "execution_count": 13,
   "metadata": {},
   "outputs": [],
   "source": [
    "X, y = fetch_openml('mnist_784', version=1, return_X_y=True)"
   ]
  },
  {
   "cell_type": "code",
   "execution_count": 14,
   "metadata": {},
   "outputs": [],
   "source": [
    "X = np.array(X)\n",
    "y = np.array(y)"
   ]
  },
  {
   "cell_type": "code",
   "execution_count": 15,
   "metadata": {},
   "outputs": [],
   "source": [
    "X_train, X_test, y_train, y_test = train_test_split(subset_X, \n",
    "                                                    subset_y,\n",
    "                                                    random_state=9,\n",
    "                                                    train_size=0.8, # argparse - make this the default\n",
    "                                                    test_size=0.2)"
   ]
  },
  {
   "cell_type": "code",
   "execution_count": 16,
   "metadata": {},
   "outputs": [],
   "source": [
    "y_train = LabelBinarizer().fit_transform(y_train)\n",
    "y_test = LabelBinarizer().fit_transform(y_test) "
   ]
  },
  {
   "cell_type": "code",
   "execution_count": 17,
   "metadata": {},
   "outputs": [],
   "source": [
    "nn = NeuralNetwork([X_train.shape[1], 32, 16, 10])"
   ]
  },
  {
   "cell_type": "code",
   "execution_count": 18,
   "metadata": {},
   "outputs": [
    {
     "name": "stderr",
     "output_type": "stream",
     "text": [
      "../utils/neuralnetwork.py:31: RuntimeWarning: overflow encountered in exp\n",
      "  return 1.0 / (1 + np.exp(-x))\n"
     ]
    },
    {
     "name": "stdout",
     "output_type": "stream",
     "text": [
      "[INFO] epoch=1, loss=357.5643843\n",
      "[INFO] epoch=100, loss=311.1951766\n",
      "[INFO] epoch=200, loss=309.7864294\n",
      "[INFO] epoch=300, loss=309.1247867\n",
      "[INFO] epoch=400, loss=308.5417872\n",
      "[INFO] epoch=500, loss=308.0476168\n",
      "[INFO] epoch=600, loss=307.7069090\n",
      "[INFO] epoch=700, loss=307.4636159\n",
      "[INFO] epoch=800, loss=307.2634880\n",
      "[INFO] epoch=900, loss=307.0980005\n",
      "[INFO] epoch=1000, loss=306.9525236\n"
     ]
    }
   ],
   "source": [
    "print(f\"[INFO] {nn}\")\n",
    "nn.fit(X_train, y_train, epochs=1000)"
   ]
  },
  {
   "cell_type": "markdown",
   "metadata": {},
   "source": [
    "__Evaluating model__"
   ]
  },
  {
   "cell_type": "code",
   "execution_count": 22,
   "metadata": {},
   "outputs": [
    {
     "name": "stdout",
     "output_type": "stream",
     "text": [
      "['[INFO] evaluating network...']\n",
      "              precision    recall  f1-score   support\n",
      "\n",
      "           0       0.14      0.95      0.24        19\n",
      "           1       0.51      0.95      0.67        20\n",
      "           2       0.00      0.00      0.00        25\n",
      "           3       0.50      0.05      0.10        19\n",
      "           4       1.00      0.04      0.08        23\n",
      "           5       0.00      0.00      0.00        23\n",
      "           6       0.00      0.00      0.00        16\n",
      "           7       0.20      0.32      0.24        19\n",
      "           8       0.00      0.00      0.00        15\n",
      "           9       0.00      0.00      0.00        21\n",
      "\n",
      "    accuracy                           0.23       200\n",
      "   macro avg       0.24      0.23      0.13       200\n",
      "weighted avg       0.25      0.23      0.13       200\n",
      "\n"
     ]
    },
    {
     "name": "stderr",
     "output_type": "stream",
     "text": [
      "../utils/neuralnetwork.py:31: RuntimeWarning: overflow encountered in exp\n",
      "  return 1.0 / (1 + np.exp(-x))\n",
      "/home/cds-au617836/cds-visual-forked/cv101/lib/python3.6/site-packages/sklearn/metrics/_classification.py:1245: UndefinedMetricWarning: Precision and F-score are ill-defined and being set to 0.0 in labels with no predicted samples. Use `zero_division` parameter to control this behavior.\n",
      "  _warn_prf(average, modifier, msg_start, len(result))\n",
      "/home/cds-au617836/cds-visual-forked/cv101/lib/python3.6/site-packages/sklearn/metrics/_classification.py:1245: UndefinedMetricWarning: Precision and F-score are ill-defined and being set to 0.0 in labels with no predicted samples. Use `zero_division` parameter to control this behavior.\n",
      "  _warn_prf(average, modifier, msg_start, len(result))\n",
      "/home/cds-au617836/cds-visual-forked/cv101/lib/python3.6/site-packages/sklearn/metrics/_classification.py:1245: UndefinedMetricWarning: Precision and F-score are ill-defined and being set to 0.0 in labels with no predicted samples. Use `zero_division` parameter to control this behavior.\n",
      "  _warn_prf(average, modifier, msg_start, len(result))\n",
      "/home/cds-au617836/cds-visual-forked/cv101/lib/python3.6/site-packages/sklearn/metrics/_classification.py:1245: UndefinedMetricWarning: Precision and F-score are ill-defined and being set to 0.0 in labels with no predicted samples. Use `zero_division` parameter to control this behavior.\n",
      "  _warn_prf(average, modifier, msg_start, len(result))\n",
      "/home/cds-au617836/cds-visual-forked/cv101/lib/python3.6/site-packages/sklearn/metrics/_classification.py:1245: UndefinedMetricWarning: Precision and F-score are ill-defined and being set to 0.0 in labels with no predicted samples. Use `zero_division` parameter to control this behavior.\n",
      "  _warn_prf(average, modifier, msg_start, len(result))\n",
      "/home/cds-au617836/cds-visual-forked/cv101/lib/python3.6/site-packages/sklearn/metrics/_classification.py:1245: UndefinedMetricWarning: Precision and F-score are ill-defined and being set to 0.0 in labels with no predicted samples. Use `zero_division` parameter to control this behavior.\n",
      "  _warn_prf(average, modifier, msg_start, len(result))\n"
     ]
    }
   ],
   "source": [
    "print([\"[INFO] evaluating network...\"])\n",
    "predictions = nn.predict(X_test)\n",
    "predictions = predictions.argmax(axis=1)\n",
    "classification_report_nn = pd.DataFrame(classification_report(y_test.argmax(axis=1), predictions, output_dict = True)).transpose()\n",
    "print(classification_report(y_test.argmax(axis=1), predictions))"
   ]
  },
  {
   "cell_type": "code",
   "execution_count": 23,
   "metadata": {},
   "outputs": [],
   "source": [
    "classification_report_nn.to_csv(\"nn_classification_metrics.csv\")"
   ]
  }
 ],
 "metadata": {
  "kernelspec": {
   "display_name": "cv101",
   "language": "python",
   "name": "cv101"
  },
  "language_info": {
   "codemirror_mode": {
    "name": "ipython",
    "version": 3
   },
   "file_extension": ".py",
   "mimetype": "text/x-python",
   "name": "python",
   "nbconvert_exporter": "python",
   "pygments_lexer": "ipython3",
   "version": "3.6.9"
  }
 },
 "nbformat": 4,
 "nbformat_minor": 4
}
