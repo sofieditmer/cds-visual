{
 "cells": [
  {
   "cell_type": "markdown",
   "metadata": {},
   "source": [
    "## Assignment 1 - Basic image processing"
   ]
  },
  {
   "cell_type": "markdown",
   "metadata": {},
   "source": [
    "__Aske Svane Qvist__"
   ]
  },
  {
   "cell_type": "markdown",
   "metadata": {},
   "source": [
    "All images are retrieved from the webpage:\n",
    "https://www.kaggle.com/prasunroy/natural-images"
   ]
  },
  {
   "cell_type": "markdown",
   "metadata": {},
   "source": [
    "Import packages"
   ]
  },
  {
   "cell_type": "code",
   "execution_count": 199,
   "metadata": {},
   "outputs": [],
   "source": [
    "import os\n",
    "import numpy as np\n",
    "import cv2\n",
    "import pandas as pd\n",
    "from pathlib import Path"
   ]
  },
  {
   "cell_type": "markdown",
   "metadata": {},
   "source": [
    "Create a filepath, an empty dataframe, and a list of all filenames in the image folder"
   ]
  },
  {
   "cell_type": "code",
   "execution_count": 200,
   "metadata": {},
   "outputs": [],
   "source": [
    "# The filepath\n",
    "data_path = os.path.join(\"images\", \"dog\")\n",
    "\n",
    "# define pandas with appropriate column names\n",
    "Columns = ['filename','width','height']           \n",
    "DATA = pd.DataFrame(columns = Columns)\n",
    "\n",
    "# Create a list of all filenames in the image folder.\n",
    "filelist = []\n",
    "basepath = Path(data_path)\n",
    "files_in_basepath = basepath.iterdir()\n",
    "for item in files_in_basepath:\n",
    "    if item.is_file():\n",
    "        filelist.append(item.name)"
   ]
  },
  {
   "cell_type": "markdown",
   "metadata": {},
   "source": [
    "Create a function that can split an image according to given measures"
   ]
  },
  {
   "cell_type": "code",
   "execution_count": 201,
   "metadata": {},
   "outputs": [],
   "source": [
    "def image_split(h1, h2, w1, w2, image):\n",
    "    new_image = image[h1:h2, w1:w2]\n",
    "\n",
    "    return(new_image)\n"
   ]
  },
  {
   "cell_type": "markdown",
   "metadata": {},
   "source": [
    "Looping over all the pictures, split them, and save their information."
   ]
  },
  {
   "cell_type": "code",
   "execution_count": 203,
   "metadata": {},
   "outputs": [],
   "source": [
    "# THE LOOP\n",
    "for filename in filelist:\n",
    "    \n",
    "    # Create a specific image path and import the image\n",
    "    img_path = os.path.join(data_path, filename)\n",
    "    image = cv2.imread(img_path)\n",
    "    \n",
    "    # Assign properties of the image to variables\n",
    "    height, width, channels = image.shape\n",
    "    \n",
    "    # New heights and widths\n",
    "    new_height = int(height/2)\n",
    "    new_width = int(width/2)\n",
    "    \n",
    "    # Create 4 split images\n",
    "    top_left = image_split(0,new_height,0,new_width,image)\n",
    "    top_right = image_split(0,new_height,new_width, width,image)\n",
    "    bottom_left = image_split(new_height,height,0, new_width,image)\n",
    "    bottom_right = image_split(new_height,height,new_width, width,image)\n",
    "\n",
    "    # collect the image objects in a string\n",
    "    new_images = [top_left, top_right,bottom_left, bottom_right]\n",
    "    \n",
    "    # Loop over each of the 4 split images, save them, and attached their into to the dataframe\n",
    "    img_count = 1\n",
    "\n",
    "    for img in new_images:\n",
    "    \n",
    "        # Generate unique filename\n",
    "        new_filename = filename[:-4] + \"_slice\" + str(img_count) + \".jpg\"\n",
    "    \n",
    "        # save the split image\n",
    "        outfile = os.path.join(\"sliced_images\", new_filename) # joining filepath and new filename.\n",
    "        cv2.imwrite(outfile, img)\n",
    "    \n",
    "        # Save to dataframe\n",
    "        DATA = DATA.append({\n",
    "            'filename': new_filename,\n",
    "            'height': new_height,\n",
    "            'width': new_width,\n",
    "            }, ignore_index=True) \n",
    "    \n",
    "        img_count = img_count + 1\n",
    "\n",
    "# Save the dataframe as a csv file\n",
    "DATA.to_csv(\"image_info.csv\")"
   ]
  }
 ],
 "metadata": {
  "kernelspec": {
   "display_name": "Python 3",
   "language": "python",
   "name": "python3"
  },
  "language_info": {
   "codemirror_mode": {
    "name": "ipython",
    "version": 3
   },
   "file_extension": ".py",
   "mimetype": "text/x-python",
   "name": "python",
   "nbconvert_exporter": "python",
   "pygments_lexer": "ipython3",
   "version": "3.6.9"
  }
 },
 "nbformat": 4,
 "nbformat_minor": 4
}
